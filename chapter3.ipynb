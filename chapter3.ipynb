{
 "cells": [
  {
   "cell_type": "markdown",
   "metadata": {},
   "source": [
    "### Tensforflow With Metal Issue\n",
    "It would appear that I have identified an issue with using tensorflow with metal in my mac computer.  I had to update my code to fix it.\n",
    "```bash\n",
    "pip install tensorflow-macos tensorflow-metal --upgrade\n",
    "```\n",
    "\n",
    "### Example Code Page 76"
   ]
  },
  {
   "cell_type": "code",
   "execution_count": 9,
   "metadata": {},
   "outputs": [
    {
     "name": "stdout",
     "output_type": "stream",
     "text": [
      "tf ones tf.Tensor(\n",
      "[[1. 1.]\n",
      " [1. 1.]], shape=(2, 2), dtype=float32)\n",
      "np ones [[0. 1.]\n",
      " [1. 1.]]\n",
      "tf.Tensor(\n",
      "[[0.]\n",
      " [0.]], shape=(2, 1), dtype=float32)\n",
      "tf.Tensor(\n",
      "[[-1.3544159]\n",
      " [ 0.7045493]], shape=(2, 1), dtype=float32)\n"
     ]
    }
   ],
   "source": [
    "import tensorflow as tf\n",
    "import numpy as np\n",
    "\n",
    "# tf will not let you change the value of an element in the array\n",
    "x = tf.ones(shape=(2, 2))\n",
    "# x[0,0] = 0 doesn't work, gives an error\n",
    "print(\"tf ones\", x)\n",
    "\n",
    "# numpy allows you to change the value of an element in the array\n",
    "x1 = np.ones(shape=(2, 2))\n",
    "x1[0,0] = 0\n",
    "\n",
    "print(\"np ones\", x1)\n",
    "y = tf.zeros(shape=(2, 1))\n",
    "print(y)\n",
    "\n",
    "z = tf.random.normal(shape=(2, 1), mean=0., stddev=1.)\n",
    "print(z)"
   ]
  },
  {
   "cell_type": "markdown",
   "metadata": {},
   "source": [
    "### Example Code From 77"
   ]
  },
  {
   "cell_type": "code",
   "execution_count": 11,
   "metadata": {},
   "outputs": [
    {
     "name": "stdout",
     "output_type": "stream",
     "text": [
      "<tf.Variable 'Variable:0' shape=(3, 1) dtype=float32, numpy=\n",
      "array([[-1.3544159 ],\n",
      "       [ 0.7045493 ],\n",
      "       [ 0.03666191]], dtype=float32)>\n"
     ]
    }
   ],
   "source": [
    "v = tf.Variable(initial_value=tf.random.normal(shape=(3, 1)))\n",
    "print(v)\n",
    "\n",
    "v.assign"
   ]
  }
 ],
 "metadata": {
  "kernelspec": {
   "display_name": "llm",
   "language": "python",
   "name": "python3"
  },
  "language_info": {
   "codemirror_mode": {
    "name": "ipython",
    "version": 3
   },
   "file_extension": ".py",
   "mimetype": "text/x-python",
   "name": "python",
   "nbconvert_exporter": "python",
   "pygments_lexer": "ipython3",
   "version": "3.11.5"
  }
 },
 "nbformat": 4,
 "nbformat_minor": 2
}
