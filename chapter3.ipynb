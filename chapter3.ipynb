{
 "cells": [
  {
   "cell_type": "markdown",
   "metadata": {},
   "source": [
    "### Tensforflow With Metal Issue\n",
    "It would appear that I have identified an issue with using tensorflow with metal in my mac computer.  I believe I fixed it.  I had to update my code to fix it.  It could possibly have just been a one time message like I am still currently getting.  I didn't record the message.  I'm still getting a one time message the first time I use tf, telling me about the status of the use of metal.\n",
    "```bash\n",
    "pip install tensorflow-macos tensorflow-metal --upgrade\n",
    "```\n",
    "\n",
    "### Example Code Page 76"
   ]
  },
  {
   "cell_type": "code",
   "execution_count": 2,
   "metadata": {},
   "outputs": [
    {
     "name": "stdout",
     "output_type": "stream",
     "text": [
      "tf ones tf.Tensor(\n",
      "[[1. 1.]\n",
      " [1. 1.]], shape=(2, 2), dtype=float32)\n",
      "np ones [[0. 1.]\n",
      " [1. 1.]]\n",
      "tf.Tensor(\n",
      "[[0.]\n",
      " [0.]], shape=(2, 1), dtype=float32)\n",
      "tf.Tensor(\n",
      "[[-1.1725018 ]\n",
      " [-0.01549974]], shape=(2, 1), dtype=float32)\n"
     ]
    },
    {
     "name": "stderr",
     "output_type": "stream",
     "text": [
      "2024-09-08 19:02:55.703803: I metal_plugin/src/device/metal_device.cc:1154] Metal device set to: Apple M2 Max\n",
      "2024-09-08 19:02:55.703821: I metal_plugin/src/device/metal_device.cc:296] systemMemory: 32.00 GB\n",
      "2024-09-08 19:02:55.703827: I metal_plugin/src/device/metal_device.cc:313] maxCacheSize: 10.67 GB\n",
      "2024-09-08 19:02:55.703846: I tensorflow/core/common_runtime/pluggable_device/pluggable_device_factory.cc:305] Could not identify NUMA node of platform GPU ID 0, defaulting to 0. Your kernel may not have been built with NUMA support.\n",
      "2024-09-08 19:02:55.703858: I tensorflow/core/common_runtime/pluggable_device/pluggable_device_factory.cc:271] Created TensorFlow device (/job:localhost/replica:0/task:0/device:GPU:0 with 0 MB memory) -> physical PluggableDevice (device: 0, name: METAL, pci bus id: <undefined>)\n"
     ]
    }
   ],
   "source": [
    "import tensorflow as tf\n",
    "import numpy as np\n",
    "\n",
    "# tf will not let you change the value of an element in the array\n",
    "x = tf.ones(shape=(2, 2))\n",
    "# x[0,0] = 0 doesn't work, gives an error\n",
    "print(\"tf ones\", x)\n",
    "\n",
    "# numpy allows you to change the value of an element in the array\n",
    "x1 = np.ones(shape=(2, 2))\n",
    "x1[0,0] = 0\n",
    "\n",
    "print(\"np ones\", x1)\n",
    "y = tf.zeros(shape=(2, 1))\n",
    "print(y)\n",
    "\n",
    "z = tf.random.normal(shape=(2, 1), mean=0., stddev=1.)\n",
    "print(z)"
   ]
  },
  {
   "cell_type": "markdown",
   "metadata": {},
   "source": [
    "### Example Code From 77"
   ]
  },
  {
   "cell_type": "code",
   "execution_count": 3,
   "metadata": {},
   "outputs": [
    {
     "name": "stdout",
     "output_type": "stream",
     "text": [
      "<tf.Variable 'Variable:0' shape=(3, 1) dtype=float32, numpy=\n",
      "array([[-1.3544159 ],\n",
      "       [ 0.7045493 ],\n",
      "       [ 0.03666191]], dtype=float32)>\n",
      "<tf.Variable 'Variable:0' shape=(3, 1) dtype=float32, numpy=\n",
      "array([[2.],\n",
      "       [2.],\n",
      "       [2.]], dtype=float32)>\n"
     ]
    }
   ],
   "source": [
    "import tensorflow as tf\n",
    "# This is an acceptable to way reassign the value of a variable\n",
    "# in tensorflow\n",
    "v = tf.Variable(initial_value=tf.random.normal(shape=(3, 1)))\n",
    "print(v)\n",
    "\n",
    "v.assign(tf.ones((3, 1)))\n",
    "\n",
    "# This doesn't actually work because it's not supported in metal, but otherwise it should work.\n",
    "# v[0, 0].assign(3.)\n",
    "\n",
    "v.assign_add(tf.ones((3, 1)))\n",
    "\n",
    "print(v)\n"
   ]
  },
  {
   "cell_type": "markdown",
   "metadata": {},
   "source": [
    "### Examples Page 78"
   ]
  },
  {
   "cell_type": "code",
   "execution_count": 4,
   "metadata": {},
   "outputs": [
    {
     "name": "stdout",
     "output_type": "stream",
     "text": [
      "tf.Tensor(\n",
      "[[1. 1.]\n",
      " [1. 1.]], shape=(2, 2), dtype=float32)\n",
      "tf.Tensor(\n",
      "[[1. 1.]\n",
      " [1. 1.]], shape=(2, 2), dtype=float32)\n",
      "tf.Tensor(\n",
      "[[1. 1.]\n",
      " [1. 1.]], shape=(2, 2), dtype=float32)\n",
      "tf.Tensor(\n",
      "[[2. 2.]\n",
      " [2. 2.]], shape=(2, 2), dtype=float32)\n",
      "tf.Tensor(\n",
      "[[2. 2.]\n",
      " [2. 2.]], shape=(2, 2), dtype=float32)\n",
      "tf.Tensor(\n",
      "[[4. 4.]\n",
      " [4. 4.]], shape=(2, 2), dtype=float32)\n"
     ]
    }
   ],
   "source": [
    "import tensorflow as tf\n",
    "a = tf.ones((2, 2))\n",
    "print(a)\n",
    "b = tf.square(a)\n",
    "print(b)\n",
    "c = tf.sqrt(a)\n",
    "print(c)\n",
    "d = b + c\n",
    "print(d)\n",
    "# take the product of the two tensors\n",
    "e = tf.matmul(a, b)\n",
    "print(e)\n",
    "# multiplication is element-wise\n",
    "e *= d\n",
    "\n",
    "print(e)"
   ]
  },
  {
   "cell_type": "markdown",
   "metadata": {},
   "source": [
    "### 3.5.3"
   ]
  },
  {
   "cell_type": "code",
   "execution_count": 5,
   "metadata": {},
   "outputs": [
    {
     "name": "stdout",
     "output_type": "stream",
     "text": [
      "tf.Tensor(9.0, shape=(), dtype=float32)\n",
      "<tf.Variable 'Variable:0' shape=() dtype=float32, numpy=3.0>\n"
     ]
    }
   ],
   "source": [
    "#3.11\n",
    "input_var = tf.Variable(initial_value=3.)\n",
    "with tf.GradientTape() as tape:\n",
    "  result = tf.square(input_var)\n",
    "  print(result)\n",
    "print(input_var)"
   ]
  },
  {
   "cell_type": "code",
   "execution_count": 8,
   "metadata": {},
   "outputs": [
    {
     "name": "stdout",
     "output_type": "stream",
     "text": [
      "tf.Tensor(9.0, shape=(), dtype=float32)\n",
      "tf.Tensor(6.0, shape=(), dtype=float32)\n",
      "<tensorflow.python.eager.backprop.GradientTape object at 0x30cf12650>\n"
     ]
    }
   ],
   "source": [
    "input_const = tf.constant(3.)\n",
    "with tf.GradientTape() as tape:\n",
    "  tape.watch(input_const)\n",
    "  result = tf.square(input_const)\n",
    "  print(result)\n",
    "grandient = tape.gradient(result, input_const)\n",
    "print(grandient)\n",
    "print(tape)"
   ]
  }
 ],
 "metadata": {
  "kernelspec": {
   "display_name": "llm",
   "language": "python",
   "name": "python3"
  },
  "language_info": {
   "codemirror_mode": {
    "name": "ipython",
    "version": 3
   },
   "file_extension": ".py",
   "mimetype": "text/x-python",
   "name": "python",
   "nbconvert_exporter": "python",
   "pygments_lexer": "ipython3",
   "version": "3.11.5"
  }
 },
 "nbformat": 4,
 "nbformat_minor": 2
}
