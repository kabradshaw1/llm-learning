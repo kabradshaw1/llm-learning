{
 "cells": [
  {
   "cell_type": "code",
   "execution_count": null,
   "metadata": {},
   "outputs": [],
   "source": [
    "# Set the Hugging Face Hub API token as an environmental varaible\n",
    "import os\n",
    "from secret_api_key import huggingface_api_key\n",
    "os.environ[\"HUGGINGFACE_API_TOKEN\"]"
   ]
  }
 ],
 "metadata": {
  "language_info": {
   "name": "python"
  }
 },
 "nbformat": 4,
 "nbformat_minor": 2
}
