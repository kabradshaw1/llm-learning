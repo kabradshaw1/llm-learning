{
 "cells": [
  {
   "cell_type": "code",
   "execution_count": null,
   "metadata": {},
   "outputs": [],
   "source": [
    "import numpy as np\n",
    "import matplotlib.pyplot as plt\n",
    "\n",
    "# Generate two classes of random points in a 2d plane\n",
    "num_samples_per_class = 1000\n",
    "# This will be the firset set of points with a, so the cluster of points\n",
    "# will look similar for these two classes, but with different mean\n",
    "negative_samples = np.random.multivariate_normal(\n",
    "  mean=[0, 3], cov=[[1, 0.5], [0.5, 1]], size=num_samples_per_class)\n",
    "\n",
    "positive_samples = np.random.multivariate_normal(\n",
    "  mean=[3, 0], cov=[[1, 0.5], [0.5, 1]], size=num_samples_per_class)\n",
    "\n",
    "# make the 2 arrays into a single array\n",
    "inputs = np.vstack((negative_samples, positive_samples)).astype(np.float32)\n",
    "\n",
    "# Create the target labels for the two classes\n",
    "targets = np.vstack((np.zeros((num_samples_per_class, 1), dtype=\"float32\"),\n",
    "  np.ones((num_samples_per_class, 1), dtype=\"float32\")))\n",
    "\n",
    "plt.scatter(inputs[:, 0], inputs[:, 1], c=targets[:, 0])\n",
    "plt.show()"
   ]
  },
  {
   "cell_type": "markdown",
   "metadata": {},
   "source": [
    "### Stuff and things\n",
    "Trying to figure out how to move the things!"
   ]
  },
  {
   "cell_type": "markdown",
   "metadata": {},
   "source": []
  },
  {
   "cell_type": "markdown",
   "metadata": {},
   "source": []
  },
  {
   "cell_type": "code",
   "execution_count": null,
   "metadata": {},
   "outputs": [],
   "source": [
    "import tensorflow as tf\n",
    "input_dim = 2\n",
    "output_dim = 1\n",
    "W = tf.Variable(initial_value=tf.random.uniform(shape=(input_dim, output_dim)))\n",
    "b = tf.Variable(initial_value=tf.zeros(shape=(output_dim,)))\n",
    "\n",
    "def model(inputs):\n",
    "  return tf.matmul(inputs, W) + b\n",
    "\n",
    "def square_loss(targets, predictions):\n",
    "  per_sample_losses = tf.square(targets - predictions)\n",
    "  return tf.reduce_mean(per_sample_losses)\n",
    "\n",
    "learning_rate = 0.1\n",
    "\n",
    "def training_step(inputs, targets):\n",
    "  with tf.GradientTape() as tape:\n",
    "    predictions = model(inputs)\n",
    "    loss = square_loss(targets, predictions)\n",
    "  grad_loss_wrt_W, grad_los_wrt_b = tape.gradient(loss, [W, b])\n",
    "  W.assign_sub(grad_loss_wrt_W * learning_rate)\n",
    "  b.assign_sub(grad_los_wrt_b * learning_rate)\n",
    "  return loss\n",
    "\n",
    "for step in range(40):\n",
    "  loss = training_step(inputs, targets)\n",
    "  print('Loss at step %d: %.4f' % (step, loss))\n",
    "\n",
    "  predictions = model(inputs)\n",
    "  plt.scatter(inputs[:, 0], inputs[:, 1], c=predictions[:, 0] > 0.5)\n",
    "  plt.show()"
   ]
  }
 ],
 "metadata": {
  "kernelspec": {
   "display_name": "llm",
   "language": "python",
   "name": "python3"
  },
  "language_info": {
   "codemirror_mode": {
    "name": "ipython",
    "version": 3
   },
   "file_extension": ".py",
   "mimetype": "text/x-python",
   "name": "python",
   "nbconvert_exporter": "python",
   "pygments_lexer": "ipython3",
   "version": "3.11.5"
  }
 },
 "nbformat": 4,
 "nbformat_minor": 2
}
