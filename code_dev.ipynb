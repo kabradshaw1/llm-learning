{
 "cells": [
  {
   "cell_type": "code",
   "execution_count": null,
   "metadata": {},
   "outputs": [],
   "source": [
    "# Set the Hugging Face Hub API token as an environmental varaible\n",
    "import os\n",
    "from secret_api_key import huggingface_api_key\n",
    "os.environ[\"HUGGINGFACE_API_TOKEN\"] = huggingface_api_key"
   ]
  },
  {
   "cell_type": "code",
   "execution_count": null,
   "metadata": {},
   "outputs": [
    {
     "ename": "",
     "evalue": "",
     "output_type": "error",
     "traceback": [
      "\u001b[1;31mRunning cells with 'pytorch_env (Python 3.9.18)' requires the ipykernel package.\n",
      "\u001b[1;31mRun the following command to install 'ipykernel' into the Python environment. \n",
      "\u001b[1;31mCommand: 'conda install -n pytorch_env ipykernel --update-deps --force-reinstall'"
     ]
    }
   ],
   "source": [
    "# Import Hugging Face endpoint class\n",
    "from langchain.huggingface import HuggingFaceEndpoint\n",
    "\n"
   ]
  }
 ],
 "metadata": {
  "kernelspec": {
   "display_name": "pytorch_env",
   "language": "python",
   "name": "python3"
  },
  "language_info": {
   "name": "python",
   "version": "3.9.18"
  }
 },
 "nbformat": 4,
 "nbformat_minor": 2
}
