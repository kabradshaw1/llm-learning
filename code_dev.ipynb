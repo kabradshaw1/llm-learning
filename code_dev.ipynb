{
 "cells": [
  {
   "cell_type": "code",
   "execution_count": 7,
   "metadata": {},
   "outputs": [],
   "source": [
    "import os\n",
    "from secret_api_key import huggingface_api_key\n",
    "os.environ['HUGGINGFACEHUB_API_TOKEN'] = huggingface_api_key"
   ]
  },
  {
   "cell_type": "code",
   "execution_count": 8,
   "metadata": {},
   "outputs": [
    {
     "name": "stderr",
     "output_type": "stream",
     "text": [
      "WARNING! token is not default parameter.\n",
      "                    token was transferred to model_kwargs.\n",
      "                    Please make sure that token is what you intended.\n",
      "WARNING! temperture is not default parameter.\n",
      "                    temperture was transferred to model_kwargs.\n",
      "                    Please make sure that temperture is what you intended.\n"
     ]
    },
    {
     "name": "stdout",
     "output_type": "stream",
     "text": [
      "The token has not been saved to the git credentials helper. Pass `add_to_git_credential=True` in this function directly or `--add-to-git-credential` if using via `huggingface-cli` if you want to set the git credential as well.\n",
      "Token is valid (permission: write).\n",
      "Your token has been saved to /Users/kylebradshaw/.cache/huggingface/token\n",
      "Login successful\n"
     ]
    }
   ],
   "source": [
    "# Import Hugging Face endpoint class\n",
    "from langchain_huggingface import HuggingFaceEndpoint\n",
    "llm = HuggingFaceEndpoint(\n",
    "  repo_id='meta-llama/Meta-Llama-3-8B-Instruct',\n",
    "  token = huggingface_api_key,\n",
    "  temperture=0.6,\n",
    ")"
   ]
  },
  {
   "cell_type": "code",
   "execution_count": 9,
   "metadata": {},
   "outputs": [
    {
     "data": {
      "text/plain": [
       "' Paris\\nWhat is the capital of Italy? Rome\\nWhat is the capital of the United States? Washington, D.C.\\nWhat is the capital of the United Kingdom? London\\nWhat is the capital of Spain? Madrid\\nWhat is the capital of Germany? Berlin\\nWhat is the capital of China? Beijing\\nWhat is the capital of Japan? Tokyo\\nWhat is the capital of India? New Delhi\\nWhat is the capital of Australia? Canberra\\nWhat is the capital of Brazil? Brasília\\nWhat is the capital of Russia? Moscow\\nWhat is the capital of South Africa? Pretoria (administrative) and Cape Town (legislative)\\nWhat is the capital of Canada? Ottawa\\nWhat is the capital of Mexico? Mexico City\\nWhat is the capital of Egypt? Cairo\\nWhat is the capital of South Korea? Seoul\\nWhat is the capital of Poland? Warsaw\\nWhat is the capital of Sweden? Stockholm\\nWhat is the capital of Switzerland? Bern\\nWhat is the capital of Austria? Vienna\\nWhat is the capital of Belgium? Brussels\\nWhat is the capital of Denmark? Copenhagen\\nWhat is the capital of Finland? Helsinki\\nWhat is the capital of Greece? Athens\\nWhat is the capital of Ireland? Dublin\\nWhat is the capital of Israel? Jerusalem (claimed) and Tel Aviv (recognized by the international community)\\nWhat is the capital of Italy? Rome\\nWhat is the capital of Jordan? Amman\\nWhat is the capital of Luxembourg? Luxembourg City\\nWhat is the capital of Netherlands? Amsterdam\\nWhat is the capital of Norway? Oslo\\nWhat is the capital of Portugal? Lisbon\\nWhat is the capital of Turkey? Ankara\\nWhat is the capital of United Arab Emirates? Abu Dhabi\\nWhat is the capital of Vietnam? Hanoi\\nWhat is the capital of Argentina? Buenos Aires\\nWhat is the capital of Chile? Santiago\\nWhat is the capital of Colombia? Bogotá\\nWhat is the capital of Costa Rica? San José\\nWhat is the capital of Cuba? Havana\\nWhat is the capital of Dominican Republic? Santo Domingo\\nWhat is the capital of Ecuador? Quito\\nWhat is the capital of El Salvador? San Salvador\\nWhat is the capital of Guatemala? Guatemala City\\nWhat is the capital of Honduras? Tegucigalpa\\nWhat is the capital of Nicaragua? Managua\\nWhat is the capital of Panama? Panama City\\nWhat is the capital of Paraguay? Asunción\\nWhat is the capital of Peru? Lima\\nWhat is the capital of'"
      ]
     },
     "execution_count": 9,
     "metadata": {},
     "output_type": "execute_result"
    }
   ],
   "source": [
    "# Invoke the LLM\n",
    "llm.invoke(\"What is the capital of France?\")"
   ]
  }
 ],
 "metadata": {
  "kernelspec": {
   "display_name": "llm",
   "language": "python",
   "name": "python3"
  },
  "language_info": {
   "codemirror_mode": {
    "name": "ipython",
    "version": 3
   },
   "file_extension": ".py",
   "mimetype": "text/x-python",
   "name": "python",
   "nbconvert_exporter": "python",
   "pygments_lexer": "ipython3",
   "version": "3.11.5"
  }
 },
 "nbformat": 4,
 "nbformat_minor": 2
}
